{
 "cells": [
  {
   "cell_type": "code",
   "execution_count": 133,
   "id": "5c4cf344",
   "metadata": {},
   "outputs": [],
   "source": [
    "import pandas as pd\n",
    "import numpy as np\n",
    "from mlxtend.frequent_patterns import apriori\n",
    "from mlxtend.frequent_patterns import association_rules\n",
    "import matplotlib.pyplot as plt"
   ]
  },
  {
   "cell_type": "code",
   "execution_count": 134,
   "id": "77132ae8",
   "metadata": {},
   "outputs": [
    {
     "data": {
      "text/html": [
       "<div>\n",
       "<style scoped>\n",
       "    .dataframe tbody tr th:only-of-type {\n",
       "        vertical-align: middle;\n",
       "    }\n",
       "\n",
       "    .dataframe tbody tr th {\n",
       "        vertical-align: top;\n",
       "    }\n",
       "\n",
       "    .dataframe thead th {\n",
       "        text-align: right;\n",
       "    }\n",
       "</style>\n",
       "<table border=\"1\" class=\"dataframe\">\n",
       "  <thead>\n",
       "    <tr style=\"text-align: right;\">\n",
       "      <th></th>\n",
       "      <th>English</th>\n",
       "      <th>Russian</th>\n",
       "      <th>French</th>\n",
       "      <th>Italian</th>\n",
       "      <th>German</th>\n",
       "      <th>Spanish - Spain</th>\n",
       "      <th>Traditional Chinese</th>\n",
       "      <th>Simplified Chinese</th>\n",
       "      <th>Portuguese</th>\n",
       "      <th>Japanese</th>\n",
       "      <th>...</th>\n",
       "      <th>average_forever51_100</th>\n",
       "      <th>average_forever101_250</th>\n",
       "      <th>average_forever251_500</th>\n",
       "      <th>average_forever501_1000</th>\n",
       "      <th>average_forever1001</th>\n",
       "      <th>review_score_none</th>\n",
       "      <th>review_score0_25</th>\n",
       "      <th>review_score25_50</th>\n",
       "      <th>review_score50_75</th>\n",
       "      <th>review_score75_100</th>\n",
       "    </tr>\n",
       "  </thead>\n",
       "  <tbody>\n",
       "    <tr>\n",
       "      <th>0</th>\n",
       "      <td>True</td>\n",
       "      <td>False</td>\n",
       "      <td>False</td>\n",
       "      <td>False</td>\n",
       "      <td>False</td>\n",
       "      <td>False</td>\n",
       "      <td>False</td>\n",
       "      <td>False</td>\n",
       "      <td>False</td>\n",
       "      <td>False</td>\n",
       "      <td>...</td>\n",
       "      <td>False</td>\n",
       "      <td>False</td>\n",
       "      <td>False</td>\n",
       "      <td>False</td>\n",
       "      <td>False</td>\n",
       "      <td>False</td>\n",
       "      <td>False</td>\n",
       "      <td>False</td>\n",
       "      <td>False</td>\n",
       "      <td>True</td>\n",
       "    </tr>\n",
       "    <tr>\n",
       "      <th>1</th>\n",
       "      <td>True</td>\n",
       "      <td>False</td>\n",
       "      <td>False</td>\n",
       "      <td>False</td>\n",
       "      <td>False</td>\n",
       "      <td>False</td>\n",
       "      <td>False</td>\n",
       "      <td>False</td>\n",
       "      <td>False</td>\n",
       "      <td>False</td>\n",
       "      <td>...</td>\n",
       "      <td>False</td>\n",
       "      <td>False</td>\n",
       "      <td>False</td>\n",
       "      <td>False</td>\n",
       "      <td>False</td>\n",
       "      <td>True</td>\n",
       "      <td>False</td>\n",
       "      <td>False</td>\n",
       "      <td>False</td>\n",
       "      <td>False</td>\n",
       "    </tr>\n",
       "    <tr>\n",
       "      <th>2</th>\n",
       "      <td>True</td>\n",
       "      <td>True</td>\n",
       "      <td>True</td>\n",
       "      <td>True</td>\n",
       "      <td>True</td>\n",
       "      <td>True</td>\n",
       "      <td>True</td>\n",
       "      <td>True</td>\n",
       "      <td>True</td>\n",
       "      <td>True</td>\n",
       "      <td>...</td>\n",
       "      <td>False</td>\n",
       "      <td>False</td>\n",
       "      <td>False</td>\n",
       "      <td>False</td>\n",
       "      <td>False</td>\n",
       "      <td>False</td>\n",
       "      <td>False</td>\n",
       "      <td>False</td>\n",
       "      <td>True</td>\n",
       "      <td>False</td>\n",
       "    </tr>\n",
       "    <tr>\n",
       "      <th>3</th>\n",
       "      <td>True</td>\n",
       "      <td>False</td>\n",
       "      <td>False</td>\n",
       "      <td>False</td>\n",
       "      <td>False</td>\n",
       "      <td>False</td>\n",
       "      <td>False</td>\n",
       "      <td>False</td>\n",
       "      <td>False</td>\n",
       "      <td>False</td>\n",
       "      <td>...</td>\n",
       "      <td>False</td>\n",
       "      <td>False</td>\n",
       "      <td>False</td>\n",
       "      <td>False</td>\n",
       "      <td>False</td>\n",
       "      <td>False</td>\n",
       "      <td>False</td>\n",
       "      <td>False</td>\n",
       "      <td>True</td>\n",
       "      <td>False</td>\n",
       "    </tr>\n",
       "    <tr>\n",
       "      <th>4</th>\n",
       "      <td>True</td>\n",
       "      <td>False</td>\n",
       "      <td>False</td>\n",
       "      <td>False</td>\n",
       "      <td>False</td>\n",
       "      <td>False</td>\n",
       "      <td>False</td>\n",
       "      <td>False</td>\n",
       "      <td>False</td>\n",
       "      <td>False</td>\n",
       "      <td>...</td>\n",
       "      <td>False</td>\n",
       "      <td>False</td>\n",
       "      <td>False</td>\n",
       "      <td>False</td>\n",
       "      <td>False</td>\n",
       "      <td>False</td>\n",
       "      <td>False</td>\n",
       "      <td>False</td>\n",
       "      <td>False</td>\n",
       "      <td>True</td>\n",
       "    </tr>\n",
       "  </tbody>\n",
       "</table>\n",
       "<p>5 rows × 552 columns</p>\n",
       "</div>"
      ],
      "text/plain": [
       "   English  Russian  French  Italian  German  Spanish - Spain  \\\n",
       "0     True    False   False    False   False            False   \n",
       "1     True    False   False    False   False            False   \n",
       "2     True     True    True     True    True             True   \n",
       "3     True    False   False    False   False            False   \n",
       "4     True    False   False    False   False            False   \n",
       "\n",
       "   Traditional Chinese  Simplified Chinese  Portuguese  Japanese  ...  \\\n",
       "0                False               False       False     False  ...   \n",
       "1                False               False       False     False  ...   \n",
       "2                 True                True        True      True  ...   \n",
       "3                False               False       False     False  ...   \n",
       "4                False               False       False     False  ...   \n",
       "\n",
       "   average_forever51_100  average_forever101_250  average_forever251_500  \\\n",
       "0                  False                   False                   False   \n",
       "1                  False                   False                   False   \n",
       "2                  False                   False                   False   \n",
       "3                  False                   False                   False   \n",
       "4                  False                   False                   False   \n",
       "\n",
       "   average_forever501_1000  average_forever1001  review_score_none  \\\n",
       "0                    False                False              False   \n",
       "1                    False                False               True   \n",
       "2                    False                False              False   \n",
       "3                    False                False              False   \n",
       "4                    False                False              False   \n",
       "\n",
       "   review_score0_25  review_score25_50  review_score50_75  review_score75_100  \n",
       "0             False              False              False                True  \n",
       "1             False              False              False               False  \n",
       "2             False              False               True               False  \n",
       "3             False              False               True               False  \n",
       "4             False              False              False                True  \n",
       "\n",
       "[5 rows x 552 columns]"
      ]
     },
     "execution_count": 134,
     "metadata": {},
     "output_type": "execute_result"
    }
   ],
   "source": [
    "df = pd.read_csv(\"AssociationRulesDataset.csv\")\n",
    "df.drop(\"Unnamed: 0\", axis=1, inplace=True) # useless column\n",
    "df.drop(\"Unnamed: 30\", axis=1, inplace=True)\n",
    "df.drop(\"_genre\", axis=1, inplace=True)\n",
    "df.drop(\"_tags\", axis=1, inplace=True)\n",
    "df.iloc[:,:] = df.iloc[:,:].astype(bool)\n",
    "df.head()"
   ]
  },
  {
   "cell_type": "code",
   "execution_count": 135,
   "id": "1c0151a4",
   "metadata": {},
   "outputs": [
    {
     "data": {
      "text/plain": [
       "0        False\n",
       "1        False\n",
       "2        False\n",
       "3        False\n",
       "4        False\n",
       "         ...  \n",
       "54070     True\n",
       "54071    False\n",
       "54072    False\n",
       "54073     True\n",
       "54074    False\n",
       "Name: Survival_tags, Length: 54075, dtype: bool"
      ]
     },
     "execution_count": 135,
     "metadata": {},
     "output_type": "execute_result"
    }
   ],
   "source": [
    "df['Survival_tags']"
   ]
  },
  {
   "cell_type": "code",
   "execution_count": 136,
   "id": "56b8ce90",
   "metadata": {},
   "outputs": [
    {
     "data": {
      "text/html": [
       "<div>\n",
       "<style scoped>\n",
       "    .dataframe tbody tr th:only-of-type {\n",
       "        vertical-align: middle;\n",
       "    }\n",
       "\n",
       "    .dataframe tbody tr th {\n",
       "        vertical-align: top;\n",
       "    }\n",
       "\n",
       "    .dataframe thead th {\n",
       "        text-align: right;\n",
       "    }\n",
       "</style>\n",
       "<table border=\"1\" class=\"dataframe\">\n",
       "  <thead>\n",
       "    <tr style=\"text-align: right;\">\n",
       "      <th></th>\n",
       "      <th>support</th>\n",
       "      <th>itemsets</th>\n",
       "    </tr>\n",
       "  </thead>\n",
       "  <tbody>\n",
       "    <tr>\n",
       "      <th>0</th>\n",
       "      <td>0.989792</td>\n",
       "      <td>(English)</td>\n",
       "    </tr>\n",
       "    <tr>\n",
       "      <th>1</th>\n",
       "      <td>0.227832</td>\n",
       "      <td>(Russian)</td>\n",
       "    </tr>\n",
       "    <tr>\n",
       "      <th>2</th>\n",
       "      <td>0.232695</td>\n",
       "      <td>(French)</td>\n",
       "    </tr>\n",
       "    <tr>\n",
       "      <th>3</th>\n",
       "      <td>0.159667</td>\n",
       "      <td>(Italian)</td>\n",
       "    </tr>\n",
       "    <tr>\n",
       "      <th>4</th>\n",
       "      <td>0.243569</td>\n",
       "      <td>(German)</td>\n",
       "    </tr>\n",
       "    <tr>\n",
       "      <th>...</th>\n",
       "      <td>...</td>\n",
       "      <td>...</td>\n",
       "    </tr>\n",
       "    <tr>\n",
       "      <th>12739</th>\n",
       "      <td>0.097550</td>\n",
       "      <td>(ccu0_99, Indie_tags, average_forever0_2, Indi...</td>\n",
       "    </tr>\n",
       "    <tr>\n",
       "      <th>12740</th>\n",
       "      <td>0.077485</td>\n",
       "      <td>(ccu0_99, Indie_tags, average_forever0_2, Indi...</td>\n",
       "    </tr>\n",
       "    <tr>\n",
       "      <th>12741</th>\n",
       "      <td>0.082959</td>\n",
       "      <td>(ccu0_99, Indie_tags, average_forever0_2, Acti...</td>\n",
       "    </tr>\n",
       "    <tr>\n",
       "      <th>12742</th>\n",
       "      <td>0.081590</td>\n",
       "      <td>(ccu0_99, Indie_tags, average_forever0_2, Indi...</td>\n",
       "    </tr>\n",
       "    <tr>\n",
       "      <th>12743</th>\n",
       "      <td>0.081110</td>\n",
       "      <td>(ccu0_99, Indie_tags, average_forever0_2, Indi...</td>\n",
       "    </tr>\n",
       "  </tbody>\n",
       "</table>\n",
       "<p>12744 rows × 2 columns</p>\n",
       "</div>"
      ],
      "text/plain": [
       "        support                                           itemsets\n",
       "0      0.989792                                          (English)\n",
       "1      0.227832                                          (Russian)\n",
       "2      0.232695                                           (French)\n",
       "3      0.159667                                          (Italian)\n",
       "4      0.243569                                           (German)\n",
       "...         ...                                                ...\n",
       "12739  0.097550  (ccu0_99, Indie_tags, average_forever0_2, Indi...\n",
       "12740  0.077485  (ccu0_99, Indie_tags, average_forever0_2, Indi...\n",
       "12741  0.082959  (ccu0_99, Indie_tags, average_forever0_2, Acti...\n",
       "12742  0.081590  (ccu0_99, Indie_tags, average_forever0_2, Indi...\n",
       "12743  0.081110  (ccu0_99, Indie_tags, average_forever0_2, Indi...\n",
       "\n",
       "[12744 rows x 2 columns]"
      ]
     },
     "execution_count": 136,
     "metadata": {},
     "output_type": "execute_result"
    }
   ],
   "source": [
    "itemsets = apriori(df, min_support=0.075, use_colnames=True)\n",
    "itemsets"
   ]
  },
  {
   "cell_type": "code",
   "execution_count": 137,
   "id": "c5a52855",
   "metadata": {},
   "outputs": [
    {
     "data": {
      "text/html": [
       "<div>\n",
       "<style scoped>\n",
       "    .dataframe tbody tr th:only-of-type {\n",
       "        vertical-align: middle;\n",
       "    }\n",
       "\n",
       "    .dataframe tbody tr th {\n",
       "        vertical-align: top;\n",
       "    }\n",
       "\n",
       "    .dataframe thead th {\n",
       "        text-align: right;\n",
       "    }\n",
       "</style>\n",
       "<table border=\"1\" class=\"dataframe\">\n",
       "  <thead>\n",
       "    <tr style=\"text-align: right;\">\n",
       "      <th></th>\n",
       "      <th>antecedents</th>\n",
       "      <th>consequents</th>\n",
       "      <th>antecedent support</th>\n",
       "      <th>consequent support</th>\n",
       "      <th>support</th>\n",
       "      <th>confidence</th>\n",
       "      <th>lift</th>\n",
       "      <th>leverage</th>\n",
       "      <th>conviction</th>\n",
       "    </tr>\n",
       "  </thead>\n",
       "  <tbody>\n",
       "    <tr>\n",
       "      <th>0</th>\n",
       "      <td>(English)</td>\n",
       "      <td>(Russian)</td>\n",
       "      <td>0.989792</td>\n",
       "      <td>0.227832</td>\n",
       "      <td>0.227295</td>\n",
       "      <td>0.229640</td>\n",
       "      <td>1.007935</td>\n",
       "      <td>0.001789</td>\n",
       "      <td>1.002347</td>\n",
       "    </tr>\n",
       "    <tr>\n",
       "      <th>1</th>\n",
       "      <td>(Russian)</td>\n",
       "      <td>(English)</td>\n",
       "      <td>0.227832</td>\n",
       "      <td>0.989792</td>\n",
       "      <td>0.227295</td>\n",
       "      <td>0.997646</td>\n",
       "      <td>1.007935</td>\n",
       "      <td>0.001789</td>\n",
       "      <td>4.336659</td>\n",
       "    </tr>\n",
       "    <tr>\n",
       "      <th>2</th>\n",
       "      <td>(English)</td>\n",
       "      <td>(French)</td>\n",
       "      <td>0.989792</td>\n",
       "      <td>0.232695</td>\n",
       "      <td>0.232658</td>\n",
       "      <td>0.235058</td>\n",
       "      <td>1.010153</td>\n",
       "      <td>0.002338</td>\n",
       "      <td>1.003088</td>\n",
       "    </tr>\n",
       "    <tr>\n",
       "      <th>3</th>\n",
       "      <td>(French)</td>\n",
       "      <td>(English)</td>\n",
       "      <td>0.232695</td>\n",
       "      <td>0.989792</td>\n",
       "      <td>0.232658</td>\n",
       "      <td>0.999841</td>\n",
       "      <td>1.010153</td>\n",
       "      <td>0.002338</td>\n",
       "      <td>64.223911</td>\n",
       "    </tr>\n",
       "    <tr>\n",
       "      <th>4</th>\n",
       "      <td>(English)</td>\n",
       "      <td>(Italian)</td>\n",
       "      <td>0.989792</td>\n",
       "      <td>0.159667</td>\n",
       "      <td>0.159667</td>\n",
       "      <td>0.161314</td>\n",
       "      <td>1.010313</td>\n",
       "      <td>0.001630</td>\n",
       "      <td>1.001963</td>\n",
       "    </tr>\n",
       "    <tr>\n",
       "      <th>...</th>\n",
       "      <td>...</td>\n",
       "      <td>...</td>\n",
       "      <td>...</td>\n",
       "      <td>...</td>\n",
       "      <td>...</td>\n",
       "      <td>...</td>\n",
       "      <td>...</td>\n",
       "      <td>...</td>\n",
       "      <td>...</td>\n",
       "    </tr>\n",
       "    <tr>\n",
       "      <th>488209</th>\n",
       "      <td>(Adventure_genre)</td>\n",
       "      <td>(ccu0_99, Indie_tags, average_forever0_2, Indi...</td>\n",
       "      <td>0.382154</td>\n",
       "      <td>0.089783</td>\n",
       "      <td>0.081110</td>\n",
       "      <td>0.212243</td>\n",
       "      <td>2.363962</td>\n",
       "      <td>0.046799</td>\n",
       "      <td>1.155454</td>\n",
       "    </tr>\n",
       "    <tr>\n",
       "      <th>488210</th>\n",
       "      <td>(English)</td>\n",
       "      <td>(ccu0_99, Indie_tags, average_forever0_2, Indi...</td>\n",
       "      <td>0.989792</td>\n",
       "      <td>0.081590</td>\n",
       "      <td>0.081110</td>\n",
       "      <td>0.081946</td>\n",
       "      <td>1.004360</td>\n",
       "      <td>0.000352</td>\n",
       "      <td>1.000387</td>\n",
       "    </tr>\n",
       "    <tr>\n",
       "      <th>488211</th>\n",
       "      <td>(Action_tags)</td>\n",
       "      <td>(ccu0_99, Indie_tags, average_forever0_2, Indi...</td>\n",
       "      <td>0.462783</td>\n",
       "      <td>0.081738</td>\n",
       "      <td>0.081110</td>\n",
       "      <td>0.175265</td>\n",
       "      <td>2.144217</td>\n",
       "      <td>0.043282</td>\n",
       "      <td>1.113402</td>\n",
       "    </tr>\n",
       "    <tr>\n",
       "      <th>488212</th>\n",
       "      <td>(Adventure_tags)</td>\n",
       "      <td>(ccu0_99, Indie_tags, average_forever0_2, Indi...</td>\n",
       "      <td>0.432067</td>\n",
       "      <td>0.081979</td>\n",
       "      <td>0.081110</td>\n",
       "      <td>0.187725</td>\n",
       "      <td>2.289920</td>\n",
       "      <td>0.045689</td>\n",
       "      <td>1.130185</td>\n",
       "    </tr>\n",
       "    <tr>\n",
       "      <th>488213</th>\n",
       "      <td>(0 .. 20,000)</td>\n",
       "      <td>(ccu0_99, Indie_tags, average_forever0_2, Indi...</td>\n",
       "      <td>0.702006</td>\n",
       "      <td>0.092649</td>\n",
       "      <td>0.081110</td>\n",
       "      <td>0.115540</td>\n",
       "      <td>1.247067</td>\n",
       "      <td>0.016069</td>\n",
       "      <td>1.025881</td>\n",
       "    </tr>\n",
       "  </tbody>\n",
       "</table>\n",
       "<p>488214 rows × 9 columns</p>\n",
       "</div>"
      ],
      "text/plain": [
       "              antecedents                                        consequents  \\\n",
       "0               (English)                                          (Russian)   \n",
       "1               (Russian)                                          (English)   \n",
       "2               (English)                                           (French)   \n",
       "3                (French)                                          (English)   \n",
       "4               (English)                                          (Italian)   \n",
       "...                   ...                                                ...   \n",
       "488209  (Adventure_genre)  (ccu0_99, Indie_tags, average_forever0_2, Indi...   \n",
       "488210          (English)  (ccu0_99, Indie_tags, average_forever0_2, Indi...   \n",
       "488211      (Action_tags)  (ccu0_99, Indie_tags, average_forever0_2, Indi...   \n",
       "488212   (Adventure_tags)  (ccu0_99, Indie_tags, average_forever0_2, Indi...   \n",
       "488213      (0 .. 20,000)  (ccu0_99, Indie_tags, average_forever0_2, Indi...   \n",
       "\n",
       "        antecedent support  consequent support   support  confidence  \\\n",
       "0                 0.989792            0.227832  0.227295    0.229640   \n",
       "1                 0.227832            0.989792  0.227295    0.997646   \n",
       "2                 0.989792            0.232695  0.232658    0.235058   \n",
       "3                 0.232695            0.989792  0.232658    0.999841   \n",
       "4                 0.989792            0.159667  0.159667    0.161314   \n",
       "...                    ...                 ...       ...         ...   \n",
       "488209            0.382154            0.089783  0.081110    0.212243   \n",
       "488210            0.989792            0.081590  0.081110    0.081946   \n",
       "488211            0.462783            0.081738  0.081110    0.175265   \n",
       "488212            0.432067            0.081979  0.081110    0.187725   \n",
       "488213            0.702006            0.092649  0.081110    0.115540   \n",
       "\n",
       "            lift  leverage  conviction  \n",
       "0       1.007935  0.001789    1.002347  \n",
       "1       1.007935  0.001789    4.336659  \n",
       "2       1.010153  0.002338    1.003088  \n",
       "3       1.010153  0.002338   64.223911  \n",
       "4       1.010313  0.001630    1.001963  \n",
       "...          ...       ...         ...  \n",
       "488209  2.363962  0.046799    1.155454  \n",
       "488210  1.004360  0.000352    1.000387  \n",
       "488211  2.144217  0.043282    1.113402  \n",
       "488212  2.289920  0.045689    1.130185  \n",
       "488213  1.247067  0.016069    1.025881  \n",
       "\n",
       "[488214 rows x 9 columns]"
      ]
     },
     "execution_count": 137,
     "metadata": {},
     "output_type": "execute_result"
    }
   ],
   "source": [
    "rules = association_rules(itemsets, metric = \"support\", min_threshold = 0.05)\n",
    "rules"
   ]
  },
  {
   "cell_type": "code",
   "execution_count": 138,
   "id": "1e330210",
   "metadata": {},
   "outputs": [],
   "source": [
    "rules['antecedents_length'] = rules[\"antecedents\"].apply(lambda x: len(x))\n",
    "rules['consequents_length'] = rules[\"consequents\"].apply(lambda x: len(x))"
   ]
  },
  {
   "cell_type": "code",
   "execution_count": 12,
   "id": "b2348c11",
   "metadata": {},
   "outputs": [
    {
     "data": {
      "image/png": "[encoded data removed]",
      "text/plain": [
       "<Figure size 432x288 with 2 Axes>"
      ]
     },
     "metadata": {
      "needs_background": "light"
     },
     "output_type": "display_data"
    }
   ],
   "source": [
    "#rules.sort_values(by = 'lift', ascending = True, inplace = True)\n",
    "plt.scatter(rules['support'], rules['confidence'], c=rules['lift'], cmap = 'plasma')\n",
    "plt.title('Mined Association Rules')\n",
    "plt.xlabel('Support')\n",
    "plt.ylabel('Confidence')\n",
    "plt.colorbar(label = 'Lift')\n",
    "#plt.savefig('Rules.png')\n",
    "plt.show()"
   ]
  },
  {
   "cell_type": "code",
   "execution_count": null,
   "id": "62c13c32",
   "metadata": {},
   "outputs": [],
   "source": [
    "################################################\n",
    "# General Rules\n",
    "######################################"
   ]
  },
  {
   "cell_type": "code",
   "execution_count": null,
   "id": "2ef703cf",
   "metadata": {},
   "outputs": [],
   "source": [
    "# rather than focusing on what advice to give, I can back up EDA and give realistic expectations for \n",
    "# each game"
   ]
  },
  {
   "cell_type": "code",
   "execution_count": null,
   "id": "05eeed00",
   "metadata": {},
   "outputs": [],
   "source": [
    "# find 10 most common itemsets in rules"
   ]
  },
  {
   "cell_type": "code",
   "execution_count": 180,
   "id": "a36b391a",
   "metadata": {},
   "outputs": [
    {
     "name": "stdout",
     "output_type": "stream",
     "text": [
      "0    (English)\n",
      "Name: antecedents, dtype: object\n",
      "170230    (ccu0_99)\n",
      "Name: antecedents, dtype: object\n",
      "104271    (English, ccu0_99)\n",
      "Name: antecedents, dtype: object\n",
      "56091    (average_forever0_2)\n",
      "Name: antecedents, dtype: object\n",
      "484088    (average_forever0_2, ccu0_99)\n",
      "Name: antecedents, dtype: object\n",
      "81117    (English, average_forever0_2)\n",
      "Name: antecedents, dtype: object\n",
      "244596    (English, average_forever0_2, ccu0_99)\n",
      "Name: antecedents, dtype: object\n",
      "94621    (Indie_genre)\n",
      "Name: antecedents, dtype: object\n",
      "460202    (English, Indie_genre)\n",
      "Name: antecedents, dtype: object\n",
      "224596    (ccu0_99, Indie_genre)\n",
      "Name: antecedents, dtype: object\n"
     ]
    }
   ],
   "source": [
    "topant = rules.sort_values('antecedent support', ascending = False)\n",
    "unique_ant_support = topant['antecedent support'].unique()\n",
    "for i in range(0,10):\n",
    "    print(topant[topant['antecedent support'] == unique_ant_support[i]].antecedents.head(1))"
   ]
  },
  {
   "cell_type": "code",
   "execution_count": 181,
   "id": "6c981279",
   "metadata": {},
   "outputs": [
    {
     "name": "stdout",
     "output_type": "stream",
     "text": [
      "61595    (English)\n",
      "Name: consequents, dtype: object\n",
      "9303    (ccu0_99)\n",
      "Name: consequents, dtype: object\n",
      "79573    (English, ccu0_99)\n",
      "Name: consequents, dtype: object\n",
      "286428    (average_forever0_2)\n",
      "Name: consequents, dtype: object\n",
      "463048    (average_forever0_2, ccu0_99)\n",
      "Name: consequents, dtype: object\n",
      "228845    (English, average_forever0_2)\n",
      "Name: consequents, dtype: object\n",
      "317418    (English, average_forever0_2, ccu0_99)\n",
      "Name: consequents, dtype: object\n",
      "211532    (Indie_genre)\n",
      "Name: consequents, dtype: object\n",
      "436615    (English, Indie_genre)\n",
      "Name: consequents, dtype: object\n",
      "139457    (ccu0_99, Indie_genre)\n",
      "Name: consequents, dtype: object\n"
     ]
    }
   ],
   "source": [
    "topcons = rules.sort_values('consequent support', ascending = False)\n",
    "unique_cons_support = topcons['consequent support'].unique()\n",
    "for i in range(0,10):\n",
    "    print(topcons[topcons['consequent support'] == unique_cons_support[i]].consequents.head(1))"
   ]
  },
  {
   "cell_type": "code",
   "execution_count": 182,
   "id": "56348cd4",
   "metadata": {},
   "outputs": [
    {
     "data": {
      "text/plain": [
       "['English',\n",
       " 'ccu0_99',\n",
       " 'English + ccu0_99',\n",
       " 'average_forever0_2',\n",
       " 'average_forever0_2 + ccu0_99',\n",
       " 'average_forever0_2 + English',\n",
       " 'average_forever0_2 + English + ccu0_99',\n",
       " 'Indie_genre',\n",
       " 'Indie_genre + English',\n",
       " 'Indie_genre + ccu0_99']"
      ]
     },
     "execution_count": 182,
     "metadata": {},
     "output_type": "execute_result"
    }
   ],
   "source": [
    "top_itemsets = ['English', 'ccu0_99', 'English + ccu0_99', 'average_forever0_2', 'average_forever0_2 + ccu0_99', 'average_forever0_2 + English', 'average_forever0_2 + English + ccu0_99', 'Indie_genre', 'Indie_genre + English', 'Indie_genre + ccu0_99']\n",
    "top_itemsets"
   ]
  },
  {
   "cell_type": "code",
   "execution_count": 186,
   "id": "ce1f42be",
   "metadata": {},
   "outputs": [],
   "source": [
    "unique_ant_support_vals = list(unique_ant_support[0:10])\n",
    "unique_cons_support_vals = list(unique_cons_support[0:10])"
   ]
  },
  {
   "cell_type": "code",
   "execution_count": 210,
   "id": "0b98ea0a",
   "metadata": {},
   "outputs": [
    {
     "data": {
      "image/png": "[encoded data removed]",
      "text/plain": [
       "<Figure size 432x288 with 1 Axes>"
      ]
     },
     "metadata": {
      "needs_background": "light"
     },
     "output_type": "display_data"
    }
   ],
   "source": [
    "y_axis = np.arange(len(top_itemsets))\n",
    "plt.barh(y_axis+0.1, unique_ant_support_vals, 0.75, label = 'Antecedent')\n",
    "plt.barh(y_axis-0.1, unique_cons_support_vals, 0.4, label = 'Consequent')\n",
    "plt.yticks(y_axis, top_itemsets)\n",
    "plt.title('Most Frequent Itemsets In Rules')\n",
    "plt.xlabel('Support')\n",
    "plt.legend()\n",
    "plt.tight_layout()\n",
    "#plt.savefig('ItemsetFrequency.png')\n",
    "plt.show()"
   ]
  },
  {
   "cell_type": "code",
   "execution_count": null,
   "id": "2dc6994c",
   "metadata": {},
   "outputs": [],
   "source": [
    "####################\n",
    "# Indie + Owners\n",
    "##############"
   ]
  },
  {
   "cell_type": "code",
   "execution_count": 215,
   "id": "7f849008",
   "metadata": {},
   "outputs": [
    {
     "name": "stdout",
     "output_type": "stream",
     "text": [
      "---------------------------------------------------------------------------------------------------------\n",
      "Antecedents: ['Indie_genre']\n",
      "Consequents: ['0 .. 20,000']\n",
      "    Support: 0.5188534442903375\n",
      " Confidence: 0.723323622676532\n",
      "       Lift: 1.0303660308272562\n",
      "---------------------------------------------------------------------------------------------------------\n",
      "\n",
      "\n"
     ]
    }
   ],
   "source": [
    "for i in range(0,len(rules)):\n",
    "    if ('Indie_genre' in rules['antecedents'][i]) & ('0 .. 20,000' in rules['consequents'][i]) & (rules['antecedents_length'][i] == 1) & (rules['consequents_length'][i] == 1):\n",
    "        print('---------------------------------------------------------------------------------------------------------')\n",
    "        print(f\"Antecedents: {list(rules['antecedents'][i])}\")\n",
    "        print(f\"Consequents: {list(rules['consequents'][i])}\")\n",
    "        print(f\"    Support: {rules['support'][i]}\")\n",
    "        print(f\" Confidence: {rules['confidence'][i]}\")\n",
    "        print(f\"       Lift: {rules['lift'][i]}\")\n",
    "        print('---------------------------------------------------------------------------------------------------------')\n",
    "        print('\\n')"
   ]
  },
  {
   "cell_type": "code",
   "execution_count": 216,
   "id": "99cbfcc3",
   "metadata": {},
   "outputs": [
    {
     "name": "stdout",
     "output_type": "stream",
     "text": [
      "30011\n"
     ]
    }
   ],
   "source": [
    "count = 0\n",
    "for i in range(0,len(rules)):\n",
    "    if ('Indie_genre' in rules['antecedents'][i]) & ('0 .. 20,000' in rules['consequents'][i]):\n",
    "        count += 1\n",
    "print(count)"
   ]
  },
  {
   "cell_type": "code",
   "execution_count": 217,
   "id": "d1ce57c4",
   "metadata": {},
   "outputs": [
    {
     "name": "stdout",
     "output_type": "stream",
     "text": [
      "---------------------------------------------------------------------------------------------------------\n",
      "Antecedents: ['Indie_genre']\n",
      "Consequents: ['20,000 .. 50,000']\n",
      "    Support: 0.0934073046694406\n",
      " Confidence: 0.13021732965531466\n",
      "       Lift: 0.9849632257813876\n",
      "---------------------------------------------------------------------------------------------------------\n",
      "\n",
      "\n"
     ]
    }
   ],
   "source": [
    "for i in range(0,len(rules)):\n",
    "    if ('Indie_genre' in rules['antecedents'][i]) & ('20,000 .. 50,000' in rules['consequents'][i]) & (rules['antecedents_length'][i] == 1) & (rules['consequents_length'][i] == 1):\n",
    "        print('---------------------------------------------------------------------------------------------------------')\n",
    "        print(f\"Antecedents: {list(rules['antecedents'][i])}\")\n",
    "        print(f\"Consequents: {list(rules['consequents'][i])}\")\n",
    "        print(f\"    Support: {rules['support'][i]}\")\n",
    "        print(f\" Confidence: {rules['confidence'][i]}\")\n",
    "        print(f\"       Lift: {rules['lift'][i]}\")\n",
    "        print('---------------------------------------------------------------------------------------------------------')\n",
    "        print('\\n')"
   ]
  },
  {
   "cell_type": "code",
   "execution_count": 218,
   "id": "e51ed711",
   "metadata": {},
   "outputs": [
    {
     "name": "stdout",
     "output_type": "stream",
     "text": [
      "27\n"
     ]
    }
   ],
   "source": [
    "count = 0\n",
    "for i in range(0,len(rules)):\n",
    "    if ('Indie_genre' in rules['antecedents'][i]) & ('20,000 .. 50,000' in rules['consequents'][i]):\n",
    "        count += 1\n",
    "print(count)"
   ]
  },
  {
   "cell_type": "code",
   "execution_count": 219,
   "id": "bc55382a",
   "metadata": {},
   "outputs": [],
   "source": [
    "####################\n",
    "# Indie + High Review Scores\n",
    "##############"
   ]
  },
  {
   "cell_type": "code",
   "execution_count": 221,
   "id": "9f646b97",
   "metadata": {},
   "outputs": [
    {
     "name": "stdout",
     "output_type": "stream",
     "text": [
      "---------------------------------------------------------------------------------------------------------\n",
      "Antecedents: ['Indie_genre']\n",
      "Consequents: ['review_score75_100']\n",
      "    Support: 0.3590753582986593\n",
      " Confidence: 0.5005800613576014\n",
      "       Lift: 1.0201193449373391\n",
      "---------------------------------------------------------------------------------------------------------\n",
      "\n",
      "\n"
     ]
    }
   ],
   "source": [
    "for i in range(0,len(rules)):\n",
    "    if ('Indie_genre' in rules['antecedents'][i]) & ('review_score75_100' in rules['consequents'][i]) & (rules['antecedents_length'][i] == 1) & (rules['consequents_length'][i] == 1):\n",
    "        print('---------------------------------------------------------------------------------------------------------')\n",
    "        print(f\"Antecedents: {list(rules['antecedents'][i])}\")\n",
    "        print(f\"Consequents: {list(rules['consequents'][i])}\")\n",
    "        print(f\"    Support: {rules['support'][i]}\")\n",
    "        print(f\" Confidence: {rules['confidence'][i]}\")\n",
    "        print(f\"       Lift: {rules['lift'][i]}\")\n",
    "        print('---------------------------------------------------------------------------------------------------------')\n",
    "        print('\\n')"
   ]
  },
  {
   "cell_type": "code",
   "execution_count": 223,
   "id": "278bc659",
   "metadata": {},
   "outputs": [
    {
     "name": "stdout",
     "output_type": "stream",
     "text": [
      "9937\n"
     ]
    }
   ],
   "source": [
    "count = 0\n",
    "for i in range(0,len(rules)):\n",
    "    if ('Indie_genre' in rules['antecedents'][i]) & ('review_score75_100' in rules['consequents'][i]):\n",
    "        count += 1\n",
    "print(count)"
   ]
  },
  {
   "cell_type": "code",
   "execution_count": 228,
   "id": "47a875b6",
   "metadata": {},
   "outputs": [
    {
     "name": "stdout",
     "output_type": "stream",
     "text": [
      "---------------------------------------------------------------------------------------------------------\n",
      "Antecedents: ['Indie_genre']\n",
      "Consequents: ['review_score50_75']\n",
      "    Support: 0.14518723994452148\n",
      " Confidence: 0.20240274304570882\n",
      "       Lift: 0.9760057365968168\n",
      "---------------------------------------------------------------------------------------------------------\n",
      "\n",
      "\n"
     ]
    }
   ],
   "source": [
    "for i in range(0,len(rules)):\n",
    "    if ('Indie_genre' in rules['antecedents'][i]) & ('review_score50_75' in rules['consequents'][i]) & (rules['antecedents_length'][i] == 1) & (rules['consequents_length'][i] == 1):\n",
    "        print('---------------------------------------------------------------------------------------------------------')\n",
    "        print(f\"Antecedents: {list(rules['antecedents'][i])}\")\n",
    "        print(f\"Consequents: {list(rules['consequents'][i])}\")\n",
    "        print(f\"    Support: {rules['support'][i]}\")\n",
    "        print(f\" Confidence: {rules['confidence'][i]}\")\n",
    "        print(f\"       Lift: {rules['lift'][i]}\")\n",
    "        print('---------------------------------------------------------------------------------------------------------')\n",
    "        print('\\n')"
   ]
  },
  {
   "cell_type": "code",
   "execution_count": 229,
   "id": "f29387a3",
   "metadata": {},
   "outputs": [
    {
     "name": "stdout",
     "output_type": "stream",
     "text": [
      "261\n"
     ]
    }
   ],
   "source": [
    "count = 0\n",
    "for i in range(0,len(rules)):\n",
    "    if ('Indie_genre' in rules['antecedents'][i]) & ('review_score50_75' in rules['consequents'][i]):\n",
    "        count += 1\n",
    "print(count)"
   ]
  },
  {
   "cell_type": "code",
   "execution_count": null,
   "id": "d6041539",
   "metadata": {},
   "outputs": [],
   "source": [
    "####################\n",
    "# Indie + High Review Scores\n",
    "##############"
   ]
  },
  {
   "cell_type": "code",
   "execution_count": 230,
   "id": "c36bd2ba",
   "metadata": {},
   "outputs": [
    {
     "name": "stdout",
     "output_type": "stream",
     "text": [
      "---------------------------------------------------------------------------------------------------------\n",
      "Antecedents: ['Indie_genre']\n",
      "Consequents: ['ccu0_99']\n",
      "    Support: 0.7057975034674063\n",
      " Confidence: 0.9839387455206372\n",
      "       Lift: 1.0094766855261816\n",
      "---------------------------------------------------------------------------------------------------------\n",
      "\n",
      "\n"
     ]
    }
   ],
   "source": [
    "for i in range(0,len(rules)):\n",
    "    if ('Indie_genre' in rules['antecedents'][i]) & ('ccu0_99' in rules['consequents'][i]) & (rules['antecedents_length'][i] == 1) & (rules['consequents_length'][i] == 1):\n",
    "        print('---------------------------------------------------------------------------------------------------------')\n",
    "        print(f\"Antecedents: {list(rules['antecedents'][i])}\")\n",
    "        print(f\"Consequents: {list(rules['consequents'][i])}\")\n",
    "        print(f\"    Support: {rules['support'][i]}\")\n",
    "        print(f\" Confidence: {rules['confidence'][i]}\")\n",
    "        print(f\"       Lift: {rules['lift'][i]}\")\n",
    "        print('---------------------------------------------------------------------------------------------------------')\n",
    "        print('\\n')"
   ]
  },
  {
   "cell_type": "code",
   "execution_count": 231,
   "id": "f49b15a4",
   "metadata": {},
   "outputs": [
    {
     "name": "stdout",
     "output_type": "stream",
     "text": [
      "41347\n"
     ]
    }
   ],
   "source": [
    "count = 0\n",
    "for i in range(0,len(rules)):\n",
    "    if ('Indie_genre' in rules['antecedents'][i]) & ('ccu0_99' in rules['consequents'][i]):\n",
    "        count += 1\n",
    "print(count)"
   ]
  },
  {
   "cell_type": "code",
   "execution_count": 232,
   "id": "799aba24",
   "metadata": {},
   "outputs": [],
   "source": [
    "for i in range(0,len(rules)):\n",
    "    if ('Indie_genre' in rules['antecedents'][i]) & ('ccu100_499' in rules['consequents'][i]) & (rules['antecedents_length'][i] == 1) & (rules['consequents_length'][i] == 1):\n",
    "        print('---------------------------------------------------------------------------------------------------------')\n",
    "        print(f\"Antecedents: {list(rules['antecedents'][i])}\")\n",
    "        print(f\"Consequents: {list(rules['consequents'][i])}\")\n",
    "        print(f\"    Support: {rules['support'][i]}\")\n",
    "        print(f\" Confidence: {rules['confidence'][i]}\")\n",
    "        print(f\"       Lift: {rules['lift'][i]}\")\n",
    "        print('---------------------------------------------------------------------------------------------------------')\n",
    "        print('\\n')"
   ]
  },
  {
   "cell_type": "code",
   "execution_count": 233,
   "id": "853d84d2",
   "metadata": {},
   "outputs": [
    {
     "name": "stdout",
     "output_type": "stream",
     "text": [
      "0\n"
     ]
    }
   ],
   "source": [
    "count = 0\n",
    "for i in range(0,len(rules)):\n",
    "    if ('Indie_genre' in rules['antecedents'][i]) & ('ccu100_499' in rules['consequents'][i]):\n",
    "        count += 1\n",
    "print(count)"
   ]
  },
  {
   "cell_type": "code",
   "execution_count": null,
   "id": "c3bf9740",
   "metadata": {},
   "outputs": [],
   "source": [
    "####################\n",
    "# Languages\n",
    "##############"
   ]
  },
  {
   "cell_type": "code",
   "execution_count": 260,
   "id": "7d742262",
   "metadata": {},
   "outputs": [],
   "source": [
    "my_languages = list(df.columns[0:33])\n",
    "del my_languages[29]\n",
    "del my_languages[30]\n",
    "del my_languages[0]\n",
    "language_rev_count = []\n",
    "language_owner_count = []\n",
    "language_ccu_count = []\n",
    "\n",
    "for ele in my_languages:\n",
    "    \n",
    "    rev_count = 0\n",
    "    owner_count = 0\n",
    "    ccu_count = 0\n",
    "    \n",
    "    for i in range(0,len(rules)):\n",
    "        if (f\"{ele}\" in rules['antecedents'][i]) & ('review_score75_100' in rules['consequents'][i]):\n",
    "            rev_count += 1\n",
    "        if (f\"{ele}\" in rules['antecedents'][i]) & ('20,000 .. 50,000' in rules['consequents'][i]):\n",
    "            owner_count += 1\n",
    "        if (f\"{ele}\" in rules['antecedents'][i]) & ('ccu100_499' in rules['consequents'][i]):\n",
    "            ccu_count += 1\n",
    "    language_rev_count.append(rev_count)\n",
    "    language_owner_count.append(owner_count)\n",
    "    language_ccu_count.append(ccu_count)"
   ]
  },
  {
   "cell_type": "code",
   "execution_count": 261,
   "id": "eae03b7d",
   "metadata": {},
   "outputs": [
    {
     "name": "stderr",
     "output_type": "stream",
     "text": [
      "No artists with labels found to put in legend.  Note that artists whose label start with an underscore are ignored when legend() is called with no argument.\n"
     ]
    },
    {
     "data": {
      "image/png": "[encoded data removed]",
      "text/plain": [
       "<Figure size 432x288 with 1 Axes>"
      ]
     },
     "metadata": {
      "needs_background": "light"
     },
     "output_type": "display_data"
    }
   ],
   "source": [
    "plt.barh(my_languages, language_owner_count)\n",
    "plt.title('Language -> 20,000 to 50,000 Owners')\n",
    "plt.xlabel('Number of Rules')\n",
    "plt.tight_layout()\n",
    "#plt.savefig('ItemsetFrequency.png')\n",
    "plt.show()"
   ]
  },
  {
   "cell_type": "code",
   "execution_count": 276,
   "id": "90ccaa3f",
   "metadata": {},
   "outputs": [
    {
     "data": {
      "image/png": "[encoded data removed]",
      "text/plain": [
       "<Figure size 432x288 with 1 Axes>"
      ]
     },
     "metadata": {
      "needs_background": "light"
     },
     "output_type": "display_data"
    }
   ],
   "source": [
    "plt.barh(my_languages, language_rev_count)\n",
    "plt.title('{Language} --> {Review Score > 75%}')\n",
    "plt.xlabel('Number of Rules')\n",
    "plt.tight_layout()\n",
    "#plt.savefig('Language->ReviewScore.png')\n",
    "plt.show()"
   ]
  },
  {
   "cell_type": "code",
   "execution_count": 273,
   "id": "708a2ce1",
   "metadata": {},
   "outputs": [
    {
     "data": {
      "image/png": "[encoded data removed]",
      "text/plain": [
       "<Figure size 432x288 with 1 Axes>"
      ]
     },
     "metadata": {
      "needs_background": "light"
     },
     "output_type": "display_data"
    }
   ],
   "source": [
    "plt.barh(my_languages, language_ccu_count)\n",
    "plt.title('{Language} --> {Review Score > 75%}')\n",
    "plt.xlabel('Number of Rules')\n",
    "plt.tight_layout()\n",
    "#plt.savefig('ItemsetFrequency.png')\n",
    "plt.show()"
   ]
  },
  {
   "cell_type": "code",
   "execution_count": null,
   "id": "a776fabd",
   "metadata": {},
   "outputs": [],
   "source": [
    "####################\n",
    "# Prices\n",
    "##############"
   ]
  },
  {
   "cell_type": "code",
   "execution_count": 277,
   "id": "dcf937ea",
   "metadata": {},
   "outputs": [],
   "source": [
    "my_prices = [\"price0_499\", \"price5_999\", \"price10_1499\", \"price15_1999\", \"price20_2499\", \"price25_2999\", \"price30_3499\", \"price35_3999\", \"price40_4499\", \"price45_4999\", \"price50_5499\", \"price55_5999\", \"price60\"]\n",
    "price_rev_count = []\n",
    "price_owner_count = []\n",
    "price_ccu_count = []\n",
    "\n",
    "for ele in my_prices:\n",
    "    \n",
    "    rev_count = 0\n",
    "    owner_count = 0\n",
    "    ccu_count = 0\n",
    "    \n",
    "    for i in range(0,len(rules)):\n",
    "        if (f\"{ele}\" in rules['antecedents'][i]) & ('review_score75_100' in rules['consequents'][i]):\n",
    "            rev_count += 1\n",
    "        if (f\"{ele}\" in rules['antecedents'][i]) & ('20,000 .. 50,000' in rules['consequents'][i]):\n",
    "            owner_count += 1\n",
    "        if (f\"{ele}\" in rules['antecedents'][i]) & ('ccu100_499' in rules['consequents'][i]):\n",
    "            ccu_count += 1\n",
    "    price_rev_count.append(rev_count)\n",
    "    price_owner_count.append(owner_count)\n",
    "    price_ccu_count.append(ccu_count)"
   ]
  },
  {
   "cell_type": "code",
   "execution_count": 281,
   "id": "fd98cedd",
   "metadata": {},
   "outputs": [
    {
     "data": {
      "image/png": "[encoded data removed]",
      "text/plain": [
       "<Figure size 432x288 with 1 Axes>"
      ]
     },
     "metadata": {
      "needs_background": "light"
     },
     "output_type": "display_data"
    }
   ],
   "source": [
    "plt.barh(my_prices, price_rev_count)\n",
    "plt.title('{Price} --> {Review Score > 75%}')\n",
    "plt.xlabel('Number of Rules')\n",
    "plt.tight_layout()\n",
    "plt.savefig('Price->ReviewScore.png')\n",
    "plt.show()"
   ]
  },
  {
   "cell_type": "code",
   "execution_count": 279,
   "id": "65a4e4a0",
   "metadata": {},
   "outputs": [
    {
     "data": {
      "image/png": "[encoded data removed]",
      "text/plain": [
       "<Figure size 432x288 with 1 Axes>"
      ]
     },
     "metadata": {
      "needs_background": "light"
     },
     "output_type": "display_data"
    }
   ],
   "source": [
    "plt.barh(my_prices, price_owner_count)\n",
    "plt.title('{Price} --> {20,000 to 50,000 Owners}')\n",
    "plt.xlabel('Number of Rules')\n",
    "plt.tight_layout()\n",
    "#plt.savefig('Language->ReviewScore.png')\n",
    "plt.show()"
   ]
  },
  {
   "cell_type": "code",
   "execution_count": 280,
   "id": "dca4666b",
   "metadata": {},
   "outputs": [
    {
     "data": {
      "image/png": "[encoded data removed]",
      "text/plain": [
       "<Figure size 432x288 with 1 Axes>"
      ]
     },
     "metadata": {
      "needs_background": "light"
     },
     "output_type": "display_data"
    }
   ],
   "source": [
    "plt.barh(my_prices, price_ccu_count)\n",
    "plt.title('{Price} --> {100 to 499 Daily Players}')\n",
    "plt.xlabel('Number of Rules')\n",
    "plt.tight_layout()\n",
    "#plt.savefig('Language->ReviewScore.png')\n",
    "plt.show()"
   ]
  },
  {
   "cell_type": "code",
   "execution_count": 213,
   "id": "40982b31",
   "metadata": {},
   "outputs": [
    {
     "data": {
      "image/png": "[encoded data removed]",
      "text/plain": [
       "<Figure size 432x288 with 1 Axes>"
      ]
     },
     "metadata": {
      "needs_background": "light"
     },
     "output_type": "display_data"
    }
   ],
   "source": [
    "unique_prices = ['$0-$4.99', '$5-$9.99', '$10-$14.99', '$15-$19.99', '$20-$24.99', '$25-$29.99', '$30-$34.99', \n",
    "                 '$35-$39.99', '$40-$44.99', '$45-$49.99', '$50-$54.99', '$55-$59.99', '$60-Above']\n",
    "\n",
    "num_games_reviewed = [df.loc[(df['price0_499']==True), 'review_score75_100'].sum(),\n",
    "             df.loc[(df['price5_999']==True), 'review_score75_100'].sum(),\n",
    "             df.loc[(df['price10_1499']==True), 'review_score75_100'].sum(),\n",
    "             df.loc[(df['price15_1999']==True), 'review_score75_100'].sum(),\n",
    "             df.loc[(df['price20_2499']==True), 'review_score75_100'].sum(),\n",
    "             df.loc[(df['price25_2999']==True), 'review_score75_100'].sum(),\n",
    "             df.loc[(df['price30_3499']==True), 'review_score75_100'].sum(),\n",
    "             df.loc[(df['price35_3999']==True), 'review_score75_100'].sum(),\n",
    "             df.loc[(df['price40_4499']==True), 'review_score75_100'].sum(),\n",
    "             df.loc[(df['price45_4999']==True), 'review_score75_100'].sum(),\n",
    "             df.loc[(df['price50_5499']==True), 'review_score75_100'].sum(),\n",
    "             df.loc[(df['price55_5999']==True), 'review_score75_100'].sum(),\n",
    "             df.loc[(df['price60']==True), 'review_score75_100'].sum()]\n",
    "\n",
    "num_games_reviewed_total = [sum(df['price0_499']==True) - df.loc[(df['price0_499']==True), 'review_score_none'].sum(),\n",
    "                          sum(df['price5_999']==True) - df.loc[(df['price5_999']==True), 'review_score_none'].sum(),\n",
    "                          sum(df['price10_1499']==True) - df.loc[(df['price10_1499']==True), 'review_score_none'].sum(),\n",
    "                          sum(df['price15_1999']==True) - df.loc[(df['price15_1999']==True), 'review_score_none'].sum(),\n",
    "                          sum(df['price20_2499']==True) - df.loc[(df['price20_2499']==True), 'review_score_none'].sum(),\n",
    "                          sum(df['price25_2999']==True) - df.loc[(df['price25_2999']==True), 'review_score_none'].sum(),\n",
    "                          sum(df['price30_3499']==True) - df.loc[(df['price30_3499']==True), 'review_score_none'].sum(),\n",
    "                          sum(df['price35_3999']==True) - df.loc[(df['price35_3999']==True), 'review_score_none'].sum(),\n",
    "                          sum(df['price40_4499']==True) - df.loc[(df['price40_4499']==True), 'review_score_none'].sum(),\n",
    "                          sum(df['price45_4999']==True) - df.loc[(df['price45_4999']==True), 'review_score_none'].sum(),\n",
    "                          sum(df['price50_5499']==True) - df.loc[(df['price50_5499']==True), 'review_score_none'].sum(),\n",
    "                          sum(df['price55_5999']==True) - df.loc[(df['price55_5999']==True), 'review_score_none'].sum(),\n",
    "                          sum(df['price60']==True) - df.loc[(df['price60']==True), 'review_score_none'].sum()]\n",
    "\n",
    "x_axis = np.arange(len(unique_prices))\n",
    "\n",
    "\n",
    "plt.bar(x_axis+0.1, num_games_reviewed_total, 0.4, label = 'All Reviewed')\n",
    "plt.bar(x_axis-0.1, num_games, 0.4, label = 'Review Score > 75%')\n",
    "plt.xticks(x_axis, unique_prices, rotation=45)\n",
    "plt.title('Games With Review Scores Above 75% By Price')\n",
    "plt.xlabel('Initial Price')\n",
    "plt.ylabel('Number of Games')\n",
    "plt.legend()\n",
    "#plt.savefig('PriceReviewScore.png', bbox_inches='tight')\n",
    "plt.show()"
   ]
  },
  {
   "cell_type": "code",
   "execution_count": null,
   "id": "bf6751d1",
   "metadata": {},
   "outputs": [],
   "source": []
  },
  {
   "cell_type": "code",
   "execution_count": null,
   "id": "654af10f",
   "metadata": {},
   "outputs": [],
   "source": []
  },
  {
   "cell_type": "code",
   "execution_count": 95,
   "id": "4d922b6d",
   "metadata": {},
   "outputs": [],
   "source": []
  },
  {
   "cell_type": "code",
   "execution_count": null,
   "id": "3e433451",
   "metadata": {},
   "outputs": [],
   "source": []
  },
  {
   "cell_type": "code",
   "execution_count": 104,
   "id": "ed0938a2",
   "metadata": {},
   "outputs": [],
   "source": []
  },
  {
   "cell_type": "code",
   "execution_count": null,
   "id": "bc783398",
   "metadata": {},
   "outputs": [],
   "source": []
  },
  {
   "cell_type": "code",
   "execution_count": null,
   "id": "f909efd4",
   "metadata": {},
   "outputs": [],
   "source": []
  },
  {
   "cell_type": "code",
   "execution_count": null,
   "id": "b4e8f059",
   "metadata": {},
   "outputs": [],
   "source": []
  },
  {
   "cell_type": "code",
   "execution_count": null,
   "id": "94b6dddb",
   "metadata": {},
   "outputs": [],
   "source": []
  }
 ],
 "metadata": {
  "kernelspec": {
   "display_name": "Python 3 (ipykernel)",
   "language": "python",
   "name": "python3"
  },
  "language_info": {
   "codemirror_mode": {
    "name": "ipython",
    "version": 3
   },
   "file_extension": ".py",
   "mimetype": "text/x-python",
   "name": "python",
   "nbconvert_exporter": "python",
   "pygments_lexer": "ipython3",
   "version": "3.8.13"
  }
 },
 "nbformat": 4,
 "nbformat_minor": 5
}
